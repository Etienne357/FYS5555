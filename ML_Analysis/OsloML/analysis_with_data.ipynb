{
 "cells": [
  {
   "cell_type": "markdown",
   "metadata": {},
   "source": [
    "This sample file is an example of a background/signal classification and to find the number of DATA points the algorithm classifies as background and signal. The background is Standard Model and the signal is Zprime in this example. "
   ]
  },
  {
   "cell_type": "code",
   "execution_count": null,
   "metadata": {},
   "outputs": [],
   "source": [
    "from IPython.core.display import display, HTML\n",
    "display(HTML(\"<style>.container { width:100% !important; }</style>\"))\n",
    "import warnings\n",
    "warnings.filterwarnings('ignore')"
   ]
  },
  {
   "cell_type": "code",
   "execution_count": null,
   "metadata": {},
   "outputs": [],
   "source": [
    "import pandas as pd\n",
    "import matplotlib.pyplot as plt\n",
    "#from sklearn.model_selection import train_test_split\n",
    "import xgboost as xgb\n",
    "import numpy as np"
   ]
  },
  {
   "cell_type": "markdown",
   "metadata": {},
   "source": [
    "Loading all the data, background and signal samples"
   ]
  },
  {
   "cell_type": "code",
   "execution_count": null,
   "metadata": {},
   "outputs": [],
   "source": [
    "bkg1 = pd.read_hdf(\"/home/michael/Desktop/OpenData/SM_Backgrounds/SM_Backgrounds_2L_pt25_25_met50_num_1.h5\")\n",
    "bkg2 = pd.read_hdf(\"/home/michael/Desktop/OpenData/SM_Backgrounds/SM_Backgrounds_2L_pt25_25_met50_num_2.h5\")\n",
    "bkg3 = pd.read_hdf(\"/home/michael/Desktop/OpenData/SM_Backgrounds/SM_Backgrounds_2L_pt25_25_met50_num_3.h5\")\n",
    "bkg4 = pd.read_hdf(\"/home/michael/Desktop/OpenData/SM_Backgrounds/SM_Backgrounds_2L_pt25_25_met50_num_4.h5\")\n",
    "bkg5 = pd.read_hdf(\"/home/michael/Desktop/OpenData/SM_Backgrounds/SM_Backgrounds_2L_pt25_25_met50_num_5.h5\")\n",
    "bkg6 = pd.read_hdf(\"/home/michael/Desktop/OpenData/SM_Backgrounds/SM_Backgrounds_2L_pt25_25_met50_num_6.h5\")\n",
    "bkg7 = pd.read_hdf(\"/home/michael/Desktop/OpenData/SM_Backgrounds/SM_Backgrounds_2L_pt25_25_met50_num_7.h5\")\n",
    "bkg8 = pd.read_hdf(\"/home/michael/Desktop/OpenData/SM_Backgrounds/SM_Backgrounds_2L_pt25_25_met50_num_8.h5\")\n",
    "bkg9 = pd.read_hdf(\"/home/michael/Desktop/OpenData/SM_Backgrounds/SM_Backgrounds_2L_pt25_25_met50_num_9.h5\")\n",
    "\n",
    "sig = pd.read_hdf(\"/home/michael/Desktop/OpenData/BSM_Signal_Samples/BSM_Signal_Samples/BSM_Signal_Samples_2L_pt25_25_met50_num_1.h5\")\n",
    "\n",
    "data = pd.read_hdf(\"/home/michael/Desktop/OpenData/data/data_2L_pt25_25_met50_num_1.h5\")\n",
    "\n",
    "frames_bkg = [bkg1,bkg2,bkg3,bkg4,bkg5,bkg6,bkg7,bkg8,bkg9]\n",
    "bkg = pd.concat(frames_bkg)\n",
    "frames_merged = [bkg,sig]\n",
    "merged_train = pd.concat(frames_merged)"
   ]
  },
  {
   "cell_type": "code",
   "execution_count": null,
   "metadata": {},
   "outputs": [],
   "source": [
    "data.shape"
   ]
  },
  {
   "cell_type": "markdown",
   "metadata": {},
   "source": [
    "Choosing the variables to be input in the ML algorithm. Note the beauty of pandas: the variable names are entered, compared to numpy arrays which don't have this feature."
   ]
  },
  {
   "cell_type": "code",
   "execution_count": null,
   "metadata": {},
   "outputs": [],
   "source": [
    "X_train = merged_train[['met_et','mll','met_phi']]\n",
    "Y_train = merged_train['isSignal']\n",
    "X_test = data[['met_et','mll','met_phi']]"
   ]
  },
  {
   "cell_type": "markdown",
   "metadata": {},
   "source": [
    "At this point, you have to choose the ML algorithm (BDT, logistic regression, ...). The different cells correspond to different algorithms. You can add more advanced (classification) algorithms. It is not advised run two or more algorithms successively. If you made the wrong choice of algorithm, restart the whole kernel."
   ]
  },
  {
   "cell_type": "code",
   "execution_count": null,
   "metadata": {},
   "outputs": [],
   "source": [
    "# BDT classifier\n",
    "xgbclassifier = xgb.XGBClassifier(\n",
    "    max_depth=3, \n",
    "    n_estimators=120,\n",
    "    learning_rate=0.1,\n",
    "    n_jobs=4,\n",
    "    #scale_pos_weight=sum_wbkg/sum_wsig,\n",
    "    objective='binary:logistic')\n",
    "    #missing=-999.0) \n",
    "xgbclassifier.fit(X_train, Y_train) \n",
    "# Plot variable importance\n",
    "fig_size = plt.rcParams[\"figure.figsize\"] \n",
    "xgb.plot_importance(xgbclassifier)\n",
    "fig_size[0] = 15\n",
    "fig_size[1] = 15\n",
    "plt.rcParams[\"figure.figsize\"] = fig_size\n",
    "plt.show()\n",
    "y_pred = xgbclassifier.predict(X_test)\n",
    "y_pred_prob = xgbclassifier.predict_proba(X_test)"
   ]
  },
  {
   "cell_type": "code",
   "execution_count": null,
   "metadata": {},
   "outputs": [],
   "source": [
    "# LOGREG classifier\n",
    "from sklearn.linear_model import LogisticRegression\n",
    "logreg = LogisticRegression()\n",
    "logreg.fit(X_train, Y_train)\n",
    "y_pred = logreg.predict(X_test)\n",
    "y_pred_prob = logreg.predict_proba(X_test)"
   ]
  },
  {
   "cell_type": "code",
   "execution_count": null,
   "metadata": {},
   "outputs": [],
   "source": [
    "y_pred.shape"
   ]
  },
  {
   "cell_type": "code",
   "execution_count": null,
   "metadata": {},
   "outputs": [],
   "source": [
    "Y_pred_sig = []\n",
    "Y_pred_bkg = []\n",
    "j = 0\n",
    "for i in y_pred:\n",
    "    if i == 0:\n",
    "        Y_pred_bkg.append((y_pred[j]))\n",
    "    else:\n",
    "        Y_pred_sig.append((y_pred[j]))\n",
    "    j += 1"
   ]
  },
  {
   "cell_type": "code",
   "execution_count": null,
   "metadata": {},
   "outputs": [],
   "source": [
    "print(\"Number of data points classified as signal =\",len(Y_pred_sig))\n",
    "print(\"Number of data points classified as background =\",len(Y_pred_bkg))"
   ]
  }
 ],
 "metadata": {
  "kernelspec": {
   "display_name": "Python 3",
   "language": "python",
   "name": "python3"
  },
  "language_info": {
   "codemirror_mode": {
    "name": "ipython",
    "version": 3
   },
   "file_extension": ".py",
   "mimetype": "text/x-python",
   "name": "python",
   "nbconvert_exporter": "python",
   "pygments_lexer": "ipython3",
   "version": "3.7.3"
  }
 },
 "nbformat": 4,
 "nbformat_minor": 2
}
