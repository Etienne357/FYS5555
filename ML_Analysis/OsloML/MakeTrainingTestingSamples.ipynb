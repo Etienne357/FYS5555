{
 "cells": [
  {
   "cell_type": "code",
   "execution_count": 105,
   "metadata": {},
   "outputs": [
    {
     "data": {
      "text/html": [
       "<style>.container { width:100% !important; }</style>"
      ],
      "text/plain": [
       "<IPython.core.display.HTML object>"
      ]
     },
     "metadata": {},
     "output_type": "display_data"
    }
   ],
   "source": [
    "from IPython.core.display import display, HTML\n",
    "display(HTML(\"<style>.container { width:100% !important; }</style>\"))"
   ]
  },
  {
   "cell_type": "code",
   "execution_count": 86,
   "metadata": {},
   "outputs": [],
   "source": [
    "from os import listdir\n",
    "import pandas as pd\n",
    "import numpy as np\n",
    "import h5py\n",
    "import matplotlib.pyplot as plt\n",
    "from matplotlib.pyplot import figure"
   ]
  },
  {
   "cell_type": "code",
   "execution_count": 107,
   "metadata": {},
   "outputs": [
    {
     "name": "stdout",
     "output_type": "stream",
     "text": [
      "INFO \t Data type is SM_Backgrounds\n"
     ]
    }
   ],
   "source": [
    "indir = \"/scratch3/eirikgr/openData_13TeV/MC/SM_Backgrounds\"\n",
    "datadir = \"/scratch3/eirikgr/openData_13TeV/Data\"\n",
    "# The output file name tag to store the skim options used abvove\n",
    "datatype = indir.split(\"/\")[-1]\n",
    "# In cases there is a trailing / at the end\n",
    "if not datatype: datatype = indir.split(\"/\")[-2]\n",
    "print(\"INFO \\t Data type is {:s}\".format(datatype))\n",
    "skimtag = \"2L_pt25_25_met50\"\n",
    "\n",
    "# SM_Backgrounds_2L_pt25_25_met50_num_10.h5\n",
    "\n",
    "rBackgroundEvents = 0.5\n",
    "rSignalEvents = 0.5"
   ]
  },
  {
   "cell_type": "code",
   "execution_count": 5,
   "metadata": {},
   "outputs": [
    {
     "name": "stdout",
     "output_type": "stream",
     "text": [
      "Will load the following 10 files:\n",
      "SM_Backgrounds_2L_pt25_25_met50_num_1.h5\n",
      "SM_Backgrounds_2L_pt25_25_met50_num_10.h5\n",
      "SM_Backgrounds_2L_pt25_25_met50_num_2.h5\n",
      "SM_Backgrounds_2L_pt25_25_met50_num_3.h5\n",
      "SM_Backgrounds_2L_pt25_25_met50_num_4.h5\n",
      "SM_Backgrounds_2L_pt25_25_met50_num_5.h5\n",
      "SM_Backgrounds_2L_pt25_25_met50_num_6.h5\n",
      "SM_Backgrounds_2L_pt25_25_met50_num_7.h5\n",
      "SM_Backgrounds_2L_pt25_25_met50_num_8.h5\n",
      "SM_Backgrounds_2L_pt25_25_met50_num_9.h5\n"
     ]
    }
   ],
   "source": [
    "root_files = [f for f in listdir(indir) if (f.endswith('.h5') and f.startswith(datatype+\"_\"+skimtag))]\n",
    "print(\"Will load the following {:d} files:\\n{:s}\".format(len(root_files),\"\\n\".join(sorted(root_files))))"
   ]
  },
  {
   "cell_type": "code",
   "execution_count": 6,
   "metadata": {},
   "outputs": [
    {
     "name": "stdout",
     "output_type": "stream",
     "text": [
      "INFO  \t Opening file 1/10: SM_Backgrounds_2L_pt25_25_met50_num_2.h5\n"
     ]
    },
    {
     "name": "stderr",
     "output_type": "stream",
     "text": [
      "/mn/felt/u1/eirikgr/anaconda2/envs/norootenv/lib/python3.7/site-packages/ipykernel_launcher.py:8: FutureWarning: Method .as_matrix will be removed in a future version. Use .values instead.\n",
      "  \n"
     ]
    },
    {
     "name": "stdout",
     "output_type": "stream",
     "text": [
      "Doing DSID 1. In this file: 7 new DSIDs\n",
      "Doing DSID 2. In this file: 7 new DSIDs\n",
      "Doing DSID 3. In this file: 7 new DSIDs\n",
      "Doing DSID 4. In this file: 7 new DSIDs\n",
      "Doing DSID 5. In this file: 7 new DSIDs\n",
      "Doing DSID 6. In this file: 7 new DSIDs\n",
      "Doing DSID 7. In this file: 7 new DSIDs\n",
      "INFO  \t Opening file 2/10: SM_Backgrounds_2L_pt25_25_met50_num_5.h5\n",
      "Doing DSID 8. In this file: 4 new DSIDs\n",
      "Doing DSID 9. In this file: 4 new DSIDs\n",
      "Doing DSID 10. In this file: 4 new DSIDs\n",
      "Writing to file /scratch3/eirikgr/openData_13TeV/MC/SM_Backgrounds/testing_bkg_2L_pt25_25_met50_1.h5\n",
      "Writing to file /scratch3/eirikgr/openData_13TeV/MC/SM_Backgrounds/training_bkg_2L_pt25_25_met50_1.h5\n",
      "Doing DSID 11. In this file: 4 new DSIDs\n",
      "INFO  \t Opening file 3/10: SM_Backgrounds_2L_pt25_25_met50_num_4.h5\n",
      "Doing DSID 12. In this file: 19 new DSIDs\n",
      "Doing DSID 13. In this file: 19 new DSIDs\n",
      "Doing DSID 14. In this file: 19 new DSIDs\n",
      "Doing DSID 15. In this file: 19 new DSIDs\n",
      "Doing DSID 16. In this file: 19 new DSIDs\n",
      "Doing DSID 17. In this file: 19 new DSIDs\n",
      "Doing DSID 18. In this file: 19 new DSIDs\n",
      "Doing DSID 19. In this file: 19 new DSIDs\n",
      "Doing DSID 20. In this file: 19 new DSIDs\n",
      "Writing to file /scratch3/eirikgr/openData_13TeV/MC/SM_Backgrounds/testing_bkg_2L_pt25_25_met50_2.h5\n",
      "Writing to file /scratch3/eirikgr/openData_13TeV/MC/SM_Backgrounds/training_bkg_2L_pt25_25_met50_2.h5\n",
      "Doing DSID 21. In this file: 19 new DSIDs\n",
      "Doing DSID 22. In this file: 19 new DSIDs\n",
      "Doing DSID 23. In this file: 19 new DSIDs\n",
      "Doing DSID 24. In this file: 19 new DSIDs\n",
      "Doing DSID 25. In this file: 19 new DSIDs\n",
      "Doing DSID 26. In this file: 19 new DSIDs\n",
      "Doing DSID 27. In this file: 19 new DSIDs\n",
      "Doing DSID 28. In this file: 19 new DSIDs\n",
      "Doing DSID 29. In this file: 19 new DSIDs\n",
      "Doing DSID 30. In this file: 19 new DSIDs\n",
      "Writing to file /scratch3/eirikgr/openData_13TeV/MC/SM_Backgrounds/testing_bkg_2L_pt25_25_met50_2.h5\n",
      "Writing to file /scratch3/eirikgr/openData_13TeV/MC/SM_Backgrounds/training_bkg_2L_pt25_25_met50_2.h5\n",
      "INFO  \t Opening file 4/10: SM_Backgrounds_2L_pt25_25_met50_num_8.h5\n",
      "Doing DSID 31. In this file: 28 new DSIDs\n",
      "Doing DSID 32. In this file: 28 new DSIDs\n",
      "Doing DSID 33. In this file: 28 new DSIDs\n",
      "Doing DSID 34. In this file: 28 new DSIDs\n",
      "Doing DSID 35. In this file: 28 new DSIDs\n",
      "Doing DSID 36. In this file: 28 new DSIDs\n",
      "Doing DSID 37. In this file: 28 new DSIDs\n",
      "Doing DSID 38. In this file: 28 new DSIDs\n",
      "Doing DSID 39. In this file: 28 new DSIDs\n",
      "Doing DSID 40. In this file: 28 new DSIDs\n",
      "Writing to file /scratch3/eirikgr/openData_13TeV/MC/SM_Backgrounds/testing_bkg_2L_pt25_25_met50_3.h5\n",
      "Writing to file /scratch3/eirikgr/openData_13TeV/MC/SM_Backgrounds/training_bkg_2L_pt25_25_met50_3.h5\n",
      "Doing DSID 41. In this file: 28 new DSIDs\n",
      "Doing DSID 42. In this file: 28 new DSIDs\n",
      "Doing DSID 43. In this file: 28 new DSIDs\n",
      "Doing DSID 44. In this file: 28 new DSIDs\n",
      "Doing DSID 45. In this file: 28 new DSIDs\n",
      "Doing DSID 46. In this file: 28 new DSIDs\n",
      "Doing DSID 47. In this file: 28 new DSIDs\n",
      "Doing DSID 48. In this file: 28 new DSIDs\n",
      "Doing DSID 49. In this file: 28 new DSIDs\n",
      "Doing DSID 50. In this file: 28 new DSIDs\n",
      "Writing to file /scratch3/eirikgr/openData_13TeV/MC/SM_Backgrounds/testing_bkg_2L_pt25_25_met50_3.h5\n",
      "Writing to file /scratch3/eirikgr/openData_13TeV/MC/SM_Backgrounds/training_bkg_2L_pt25_25_met50_3.h5\n",
      "Doing DSID 51. In this file: 28 new DSIDs\n",
      "Doing DSID 52. In this file: 28 new DSIDs\n",
      "Doing DSID 53. In this file: 28 new DSIDs\n",
      "Doing DSID 54. In this file: 28 new DSIDs\n",
      "Doing DSID 55. In this file: 28 new DSIDs\n",
      "Doing DSID 56. In this file: 28 new DSIDs\n",
      "Doing DSID 57. In this file: 28 new DSIDs\n",
      "Doing DSID 58. In this file: 28 new DSIDs\n",
      "INFO  \t Opening file 5/10: SM_Backgrounds_2L_pt25_25_met50_num_3.h5\n",
      "Doing DSID 59. In this file: 1 new DSIDs\n",
      "INFO  \t Opening file 6/10: SM_Backgrounds_2L_pt25_25_met50_num_1.h5\n",
      "Doing DSID 60. In this file: 20 new DSIDs\n",
      "Writing to file /scratch3/eirikgr/openData_13TeV/MC/SM_Backgrounds/testing_bkg_2L_pt25_25_met50_5.h5\n",
      "Writing to file /scratch3/eirikgr/openData_13TeV/MC/SM_Backgrounds/training_bkg_2L_pt25_25_met50_5.h5\n",
      "Doing DSID 61. In this file: 20 new DSIDs\n",
      "Doing DSID 62. In this file: 20 new DSIDs\n",
      "Doing DSID 63. In this file: 20 new DSIDs\n",
      "Doing DSID 64. In this file: 20 new DSIDs\n",
      "Doing DSID 65. In this file: 20 new DSIDs\n",
      "Doing DSID 66. In this file: 20 new DSIDs\n",
      "Doing DSID 67. In this file: 20 new DSIDs\n",
      "Doing DSID 68. In this file: 20 new DSIDs\n",
      "Doing DSID 69. In this file: 20 new DSIDs\n",
      "Doing DSID 70. In this file: 20 new DSIDs\n",
      "Writing to file /scratch3/eirikgr/openData_13TeV/MC/SM_Backgrounds/testing_bkg_2L_pt25_25_met50_5.h5\n",
      "Writing to file /scratch3/eirikgr/openData_13TeV/MC/SM_Backgrounds/training_bkg_2L_pt25_25_met50_5.h5\n",
      "Doing DSID 71. In this file: 20 new DSIDs\n",
      "Doing DSID 72. In this file: 20 new DSIDs\n",
      "Doing DSID 73. In this file: 20 new DSIDs\n",
      "Doing DSID 74. In this file: 20 new DSIDs\n",
      "Doing DSID 75. In this file: 20 new DSIDs\n",
      "Doing DSID 76. In this file: 20 new DSIDs\n",
      "Doing DSID 77. In this file: 20 new DSIDs\n",
      "Doing DSID 78. In this file: 20 new DSIDs\n",
      "Doing DSID 79. In this file: 20 new DSIDs\n",
      "INFO  \t Opening file 7/10: SM_Backgrounds_2L_pt25_25_met50_num_6.h5\n",
      "Doing DSID 80. In this file: 5 new DSIDs\n",
      "Writing to file /scratch3/eirikgr/openData_13TeV/MC/SM_Backgrounds/testing_bkg_2L_pt25_25_met50_6.h5\n",
      "Writing to file /scratch3/eirikgr/openData_13TeV/MC/SM_Backgrounds/training_bkg_2L_pt25_25_met50_6.h5\n",
      "Doing DSID 81. In this file: 5 new DSIDs\n",
      "Doing DSID 82. In this file: 5 new DSIDs\n",
      "Doing DSID 83. In this file: 5 new DSIDs\n",
      "Doing DSID 84. In this file: 5 new DSIDs\n",
      "INFO  \t Opening file 8/10: SM_Backgrounds_2L_pt25_25_met50_num_10.h5\n",
      "Doing DSID 85. In this file: 2 new DSIDs\n",
      "Doing DSID 86. In this file: 2 new DSIDs\n",
      "INFO  \t Opening file 9/10: SM_Backgrounds_2L_pt25_25_met50_num_9.h5\n",
      "Doing DSID 87. In this file: 10 new DSIDs\n",
      "Doing DSID 88. In this file: 10 new DSIDs\n",
      "Doing DSID 89. In this file: 10 new DSIDs\n",
      "Doing DSID 90. In this file: 10 new DSIDs\n",
      "Writing to file /scratch3/eirikgr/openData_13TeV/MC/SM_Backgrounds/testing_bkg_2L_pt25_25_met50_8.h5\n",
      "Writing to file /scratch3/eirikgr/openData_13TeV/MC/SM_Backgrounds/training_bkg_2L_pt25_25_met50_8.h5\n",
      "Doing DSID 91. In this file: 10 new DSIDs\n",
      "Doing DSID 92. In this file: 10 new DSIDs\n",
      "Doing DSID 93. In this file: 10 new DSIDs\n",
      "Doing DSID 94. In this file: 10 new DSIDs\n",
      "Doing DSID 95. In this file: 10 new DSIDs\n",
      "Doing DSID 96. In this file: 10 new DSIDs\n",
      "INFO  \t Opening file 10/10: SM_Backgrounds_2L_pt25_25_met50_num_7.h5\n",
      "Doing DSID 97. In this file: 9 new DSIDs\n",
      "Doing DSID 98. In this file: 9 new DSIDs\n",
      "Doing DSID 99. In this file: 9 new DSIDs\n",
      "Doing DSID 100. In this file: 9 new DSIDs\n",
      "Writing to file /scratch3/eirikgr/openData_13TeV/MC/SM_Backgrounds/testing_bkg_2L_pt25_25_met50_9.h5\n",
      "Writing to file /scratch3/eirikgr/openData_13TeV/MC/SM_Backgrounds/training_bkg_2L_pt25_25_met50_9.h5\n",
      "Doing DSID 101. In this file: 9 new DSIDs\n",
      "Doing DSID 102. In this file: 9 new DSIDs\n",
      "Doing DSID 103. In this file: 9 new DSIDs\n",
      "Doing DSID 104. In this file: 9 new DSIDs\n",
      "Doing DSID 105. In this file: 9 new DSIDs\n",
      "Writing to file /scratch3/eirikgr/openData_13TeV/MC/SM_Backgrounds/testing_bkg_2L_pt25_25_met50_10.h5\n",
      "Writing to file /scratch3/eirikgr/openData_13TeV/MC/SM_Backgrounds/training_bkg_2L_pt25_25_met50_10.h5\n"
     ]
    }
   ],
   "source": [
    "nfile = 0\n",
    "nx = 0\n",
    "# Read all the root files with a given skim\n",
    "for f in root_files:\n",
    "    print(\"INFO  \\t Opening file {:d}/{:d}: {:s}\".format(nfile+1,len(root_files),f))\n",
    "    df = pd.read_hdf(indir+\"/\"+f, 'mini')\n",
    "    # Find the unique DSIDs in the file\n",
    "    dsid = np.unique(df.iloc[:,[1]].as_matrix())\n",
    "    # Loop over each DSID and put random selections into training and testing sample \n",
    "    for ids in dsid:\n",
    "        print(\"Doing DSID {:d}. In this file: {:d} new DSIDs\".format(nx+1,len(dsid)))\n",
    "        newdf = df.loc[df['channelNumber'] == ids]\n",
    "        # If X_test/train exists: concatenate, \n",
    "        # If not (i.e. we just wrote to a file): start new ones\n",
    "        try:\n",
    "            midl = newdf.sample(frac=rBackgroundEvents)\n",
    "            X_train = pd.concat([X_train,midl],axis=0)\n",
    "            X_test  = pd.concat([X_test, newdf.drop(midl.index.values)],axis=0)\n",
    "            del [midl]\n",
    "        except:\n",
    "            X_train = newdf.sample(frac=rBackgroundEvents)\n",
    "            X_test  = newdf.drop(X_train.index.values)\n",
    "        del [newdf]\n",
    "        nx += 1\n",
    "        # Dump testing/training samples to file every now and then (here: every tenth DSID)\n",
    "        if nx%10 == 0:\n",
    "            path = indir+\"/testing_bkg_%s_%i.h5\"%(skimtag,nfile)\n",
    "            print(\"Writing to file {:s}\".format(path))\n",
    "            X_test.to_hdf(path,key='result', mode='w')\n",
    "            path = indir+\"/training_bkg_%s_%i.h5\"%(skimtag,nfile)\n",
    "            print(\"Writing to file {:s}\".format(path))\n",
    "            X_train.to_hdf(path,key='result', mode='w')\n",
    "            del [X_test]\n",
    "            del [X_train]\n",
    "    nfile += 1\n",
    "    #if nfile > 2: break\n",
    "    del [df]\n",
    "    \n",
    "# Needed in case we left without writing the last DSIDs to file\n",
    "if nx%10 != 0:\n",
    "    path = indir+\"/testing_bkg_%s_%i.h5\"%(skimtag,nfile)\n",
    "    print(\"Writing to file {:s}\".format(path))\n",
    "    X_test.to_hdf(path,key='result', mode='w')\n",
    "    path = indir+\"/training_bkg_%s_%i.h5\"%(skimtag,nfile)\n",
    "    print(\"Writing to file {:s}\".format(path))\n",
    "    X_train.to_hdf(path,key='result', mode='w')\n",
    "    del [X_test]\n",
    "    del [X_train]"
   ]
  },
  {
   "cell_type": "markdown",
   "metadata": {},
   "source": [
    "# Plotting\n",
    "The following cells show an example on how to plot the variables stored in the data frame."
   ]
  },
  {
   "cell_type": "markdown",
   "metadata": {},
   "source": [
    "BFrist we retrieve the name of all the training and testing files just created"
   ]
  },
  {
   "cell_type": "code",
   "execution_count": 133,
   "metadata": {},
   "outputs": [
    {
     "name": "stdout",
     "output_type": "stream",
     "text": [
      "TESTING:  Will load the following 8 files:\n",
      "testing_bkg_2L_pt25_25_met50_1.h5\n",
      "testing_bkg_2L_pt25_25_met50_10.h5\n",
      "testing_bkg_2L_pt25_25_met50_2.h5\n",
      "testing_bkg_2L_pt25_25_met50_3.h5\n",
      "testing_bkg_2L_pt25_25_met50_5.h5\n",
      "testing_bkg_2L_pt25_25_met50_6.h5\n",
      "testing_bkg_2L_pt25_25_met50_8.h5\n",
      "testing_bkg_2L_pt25_25_met50_9.h5\n",
      "TRAINING: Will load the following 8 files:\n",
      "training_bkg_2L_pt25_25_met50_1.h5\n",
      "training_bkg_2L_pt25_25_met50_10.h5\n",
      "training_bkg_2L_pt25_25_met50_2.h5\n",
      "training_bkg_2L_pt25_25_met50_3.h5\n",
      "training_bkg_2L_pt25_25_met50_5.h5\n",
      "training_bkg_2L_pt25_25_met50_6.h5\n",
      "training_bkg_2L_pt25_25_met50_8.h5\n",
      "training_bkg_2L_pt25_25_met50_9.h5\n"
     ]
    }
   ],
   "source": [
    "testing_files = [f for f in listdir(indir) if (f.endswith('.h5') and f.startswith(\"testing_bkg_\"+skimtag))]\n",
    "print(\"TESTING:  Will load the following {:d} files:\\n{:s}\".format(len(training_files),\"\\n\".join(sorted(training_files))))\n",
    "training_files = [f for f in listdir(indir) if (f.endswith('.h5') and f.startswith(\"training_bkg_\"+skimtag))]\n",
    "print(\"TRAINING: Will load the following {:d} files:\\n{:s}\".format(len(training_files),\"\\n\".join(sorted(training_files))))"
   ]
  },
  {
   "cell_type": "markdown",
   "metadata": {},
   "source": [
    "Then we load the files. If we want to load the whole set (test+trainin) or only one of them can be specified in *load_files*"
   ]
  },
  {
   "cell_type": "code",
   "execution_count": 135,
   "metadata": {},
   "outputs": [
    {
     "name": "stdout",
     "output_type": "stream",
     "text": [
      "INFO  \t Opening file 1/16: testing_bkg_2L_pt25_25_met50_1.h5\n",
      "INFO  \t Opening file 2/16: testing_bkg_2L_pt25_25_met50_3.h5\n",
      "INFO  \t Opening file 3/16: testing_bkg_2L_pt25_25_met50_10.h5\n",
      "INFO  \t Opening file 4/16: testing_bkg_2L_pt25_25_met50_2.h5\n",
      "INFO  \t Opening file 5/16: testing_bkg_2L_pt25_25_met50_8.h5\n",
      "INFO  \t Opening file 6/16: testing_bkg_2L_pt25_25_met50_6.h5\n",
      "INFO  \t Opening file 7/16: testing_bkg_2L_pt25_25_met50_5.h5\n",
      "INFO  \t Opening file 8/16: testing_bkg_2L_pt25_25_met50_9.h5\n",
      "INFO  \t Opening file 9/16: training_bkg_2L_pt25_25_met50_1.h5\n",
      "INFO  \t Opening file 10/16: training_bkg_2L_pt25_25_met50_5.h5\n",
      "INFO  \t Opening file 11/16: training_bkg_2L_pt25_25_met50_2.h5\n",
      "INFO  \t Opening file 12/16: training_bkg_2L_pt25_25_met50_9.h5\n",
      "INFO  \t Opening file 13/16: training_bkg_2L_pt25_25_met50_8.h5\n",
      "INFO  \t Opening file 14/16: training_bkg_2L_pt25_25_met50_3.h5\n",
      "INFO  \t Opening file 15/16: training_bkg_2L_pt25_25_met50_10.h5\n",
      "INFO  \t Opening file 16/16: training_bkg_2L_pt25_25_met50_6.h5\n"
     ]
    }
   ],
   "source": [
    "nfile = 0\n",
    "load_files = testing_files+training_files\n",
    "for f in load_files:\n",
    "    print(\"INFO  \\t Opening file {:d}/{:d}: {:s}\".format(nfile+1,len(load_files),f))\n",
    "    df = pd.read_hdf(indir+\"/\"+f, 'result')\n",
    "    try:\n",
    "        X_train = pd.concat([X_train,df],axis=0)\n",
    "    except:\n",
    "        X_train = df\n",
    "    del [df]\n",
    "    nfile += 1\n",
    "    #break"
   ]
  },
  {
   "cell_type": "code",
   "execution_count": 109,
   "metadata": {},
   "outputs": [
    {
     "name": "stdout",
     "output_type": "stream",
     "text": [
      "Will load the following 1 files for data:\n",
      "Data_2L_pt25_25_met50_num_1.h5\n"
     ]
    }
   ],
   "source": [
    "# Add data\n",
    "data_files = [f for f in listdir(datadir) if (f.endswith('.h5') and f.startswith(\"Data_\"+skimtag))]\n",
    "print(\"Will load the following {:d} file(s) for data:\\n{:s}\".format(len(data_files),\"\\n\".join(sorted(data_files))))"
   ]
  },
  {
   "cell_type": "code",
   "execution_count": 151,
   "metadata": {},
   "outputs": [
    {
     "name": "stdout",
     "output_type": "stream",
     "text": [
      "INFO  \t Opening file 1/1: Data_2L_pt25_25_met50_num_1.h5\n"
     ]
    }
   ],
   "source": [
    "# Concatenate the data (not strictly needed if only 1 file)\n",
    "nfile = 0\n",
    "for f in data_files:\n",
    "    print(\"INFO  \\t Opening file {:d}/{:d}: {:s}\".format(nfile+1,len(data_files),f))\n",
    "    df = pd.read_hdf(datadir+\"/\"+f, 'mini')\n",
    "    try:\n",
    "        X_data = pd.concat([X_data,df],axis=0)\n",
    "    except:\n",
    "        X_data = df\n",
    "    del [df]  \n",
    "    nfile += 1"
   ]
  },
  {
   "cell_type": "markdown",
   "metadata": {},
   "source": [
    "Some plotting specific setting (order of plotting, color of backgrounds).The *stack_order* must have the same keys as in the *MCType* column in the data frame"
   ]
  },
  {
   "cell_type": "code",
   "execution_count": 154,
   "metadata": {},
   "outputs": [],
   "source": [
    "stack_order = ['Data','Wjets','Top','Diboson','Zjets']\n",
    "samples = {'Wjets':{'color':\"#e55934\"},\n",
    "           'Zjets':{'color':\"#086788\"},\n",
    "           'Top':{'color':\"#9bc53d\"},\n",
    "           'Diboson':{'color':\"#fa7921\"}}\n",
    "bkgs = X_train['MCType'].unique()\n",
    "for s in stack_order:\n",
    "    if \"Data\" in s: continue\n",
    "    if not s in bkgs: print(\"ERROR \\t Key {:s} is not in panda\".format(s))"
   ]
  },
  {
   "cell_type": "markdown",
   "metadata": {},
   "source": [
    "Extract the numpy arrays from the panda data frame (specify the variable of interest in *var*). Here the limits, bin width etc. are set. "
   ]
  },
  {
   "cell_type": "code",
   "execution_count": 200,
   "metadata": {},
   "outputs": [
    {
     "name": "stdout",
     "output_type": "stream",
     "text": [
      "51\n",
      "0\n",
      "20\n",
      "40\n",
      "60\n",
      "80\n",
      "100\n",
      "120\n",
      "140\n",
      "160\n",
      "180\n",
      "200\n",
      "220\n",
      "240\n",
      "260\n",
      "280\n",
      "300\n",
      "320\n",
      "340\n",
      "360\n",
      "380\n",
      "400\n",
      "420\n",
      "440\n",
      "460\n",
      "480\n",
      "500\n",
      "520\n",
      "540\n",
      "560\n",
      "580\n",
      "600\n",
      "620\n",
      "640\n",
      "660\n",
      "680\n",
      "700\n",
      "720\n",
      "740\n",
      "760\n",
      "780\n",
      "800\n",
      "820\n",
      "840\n",
      "860\n",
      "880\n",
      "900\n",
      "920\n",
      "940\n",
      "960\n",
      "980\n",
      "Data\n"
     ]
    },
    {
     "name": "stderr",
     "output_type": "stream",
     "text": [
      "/mn/felt/u1/eirikgr/anaconda2/envs/norootenv/lib/python3.7/site-packages/ipykernel_launcher.py:28: FutureWarning: Method .as_matrix will be removed in a future version. Use .values instead.\n",
      "/mn/felt/u1/eirikgr/anaconda2/envs/norootenv/lib/python3.7/site-packages/ipykernel_launcher.py:32: FutureWarning: Method .as_matrix will be removed in a future version. Use .values instead.\n",
      "/mn/felt/u1/eirikgr/anaconda2/envs/norootenv/lib/python3.7/site-packages/ipykernel_launcher.py:33: FutureWarning: Method .as_matrix will be removed in a future version. Use .values instead.\n"
     ]
    },
    {
     "name": "stdout",
     "output_type": "stream",
     "text": [
      "Wjets\n",
      "Top\n",
      "Diboson\n",
      "Zjets\n"
     ]
    }
   ],
   "source": [
    "mc_mll = []\n",
    "mc_weights = []\n",
    "mc_colors = []\n",
    "mc_labels = []\n",
    "\n",
    "data_mll = []\n",
    "data_mll_errors = []\n",
    "\n",
    "var = \"lep1_pt\"\n",
    "top = -999\n",
    "\n",
    "nmax = 1000\n",
    "nmin = 0\n",
    "binw = 20\n",
    "\n",
    "data_x = []\n",
    "if not ((nmax-nmin)/binw).is_integer():\n",
    "    print(\"ERROR \\t Limits and bin width are not compatible\")\n",
    "print(int((nmax-nmin)/binw)+1)\n",
    "bins = [nmin + (x*binw) for x in range(int((nmax-nmin)/binw)+1)]\n",
    "for i in range(len(bins)-1):\n",
    "    print(bins[i])\n",
    "    data_x.append(bins[i]+(bins[i+1]-bins[i])/2)\n",
    "#data_x = [((nmin+1) + x*binw) for x in range(int((nmax-nmin)/binw)) ]\n",
    "\n",
    "for s in stack_order:\n",
    "    if s == \"Data\":\n",
    "        data_mll,_ = np.histogram(X_data.as_matrix(columns=X_data.columns[X_data.columns.get_loc(var):X_data.columns.get_loc(var)+1])/1000., bins=bins)\n",
    "        data_mll_errors = np.sqrt(data_mll)\n",
    "    else:\n",
    "        rslt_df = X_train.loc[X_train['MCType'] == s]\n",
    "        mc_mll.append(rslt_df.as_matrix(columns=rslt_df.columns[rslt_df.columns.get_loc(var):rslt_df.columns.get_loc(var)+1])/1000.)\n",
    "        mc_weights.append(rslt_df.as_matrix(columns=rslt_df.columns[rslt_df.columns.get_loc(\"wgt\"):rslt_df.columns.get_loc(\"wgt\")+1])*(1000.))\n",
    "        mc_colors.append(samples[s]['color'])\n",
    "        mc_labels.append(s)\n",
    "        if np.amax(mc_mll[-1]) > top:\n",
    "            top = np.amax(mc_mll[-1])\n",
    "        del [rslt_df]\n",
    "    print(s)\n",
    "        "
   ]
  },
  {
   "cell_type": "markdown",
   "metadata": {},
   "source": [
    "Finally, do the plotting:"
   ]
  },
  {
   "cell_type": "code",
   "execution_count": 201,
   "metadata": {},
   "outputs": [
    {
     "data": {
      "text/plain": [
       "<matplotlib.legend.Legend at 0x7f8f9222d978>"
      ]
     },
     "execution_count": 201,
     "metadata": {},
     "output_type": "execute_result"
    },
    {
     "data": {
      "image/png": "[encoded data removed]",
      "text/plain": [
       "<Figure size 640x480 with 1 Axes>"
      ]
     },
     "metadata": {},
     "output_type": "display_data"
    }
   ],
   "source": [
    "figure(num=None, figsize=(8, 6), dpi=80, facecolor='w', edgecolor='k')\n",
    "plt.hist(mc_mll,bins=bins,weights=mc_weights,stacked=True,color=mc_colors, label=mc_labels); #weights=mc_weights,\n",
    "plt.errorbar( x=data_x, y=data_mll, yerr=data_mll_errors, fmt='ko', label='Data')\n",
    "plt.yscale('log')\n",
    "plt.ylabel(r'Events',fontname='sans-serif',horizontalalignment='right',y=1.0,fontsize=11)\n",
    "plt.xlabel(r'$M_{ll}$ [GeV]',fontname='sans-serif',horizontalalignment='right',x=1.0,fontsize=11)\n",
    "\n",
    "plt.ylim(bottom=1,top=top*10)\n",
    "\n",
    "ax = plt.gca()\n",
    "plt.text(0.45,0.97,r'$\\mathbf{{ATLAS}}$ Open Data',ha=\"left\",va=\"top\",family='sans-serif',transform=ax.transAxes,fontsize=13)\n",
    "plt.text(0.45,0.92,'for education only',ha=\"left\",va=\"top\",family='sans-serif',transform=ax.transAxes,style='italic',fontsize=8)\n",
    "plt.text(0.45,0.90,r'$\\sqrt{s}=13\\,\\mathrm{TeV},\\;\\int L\\,dt=10\\,\\mathrm{fb}^{-1}$',ha=\"left\",va=\"top\",family='sans-serif',transform=ax.transAxes)\n",
    "\n",
    "\n",
    "plt.legend()\n"
   ]
  },
  {
   "cell_type": "code",
   "execution_count": 196,
   "metadata": {},
   "outputs": [
    {
     "data": {
      "text/plain": [
       "(169888, 1)"
      ]
     },
     "execution_count": 196,
     "metadata": {},
     "output_type": "execute_result"
    }
   ],
   "source": [
    "mc_mll[0].shape"
   ]
  },
  {
   "cell_type": "code",
   "execution_count": 197,
   "metadata": {},
   "outputs": [
    {
     "data": {
      "text/plain": [
       "[2.5,\n",
       " 2.5,\n",
       " 2.5,\n",
       " 2.5,\n",
       " 2.5,\n",
       " 2.5,\n",
       " 2.5,\n",
       " 2.5,\n",
       " 2.5,\n",
       " 2.5,\n",
       " 2.5,\n",
       " 2.5,\n",
       " 2.5,\n",
       " 2.5,\n",
       " 2.5,\n",
       " 2.5,\n",
       " 2.5,\n",
       " 2.5,\n",
       " 2.5,\n",
       " 2.5,\n",
       " 2.5,\n",
       " 2.5,\n",
       " 2.5,\n",
       " 2.5,\n",
       " 2.5,\n",
       " 2.5,\n",
       " 2.5,\n",
       " 2.5,\n",
       " 2.5,\n",
       " 2.5,\n",
       " 2.5,\n",
       " 2.5,\n",
       " 2.5,\n",
       " 2.5,\n",
       " 2.5,\n",
       " 2.5,\n",
       " 2.5,\n",
       " 2.5,\n",
       " 2.5,\n",
       " 2.5,\n",
       " 2.5,\n",
       " 2.5,\n",
       " 2.5,\n",
       " 2.5,\n",
       " 2.5,\n",
       " 2.5,\n",
       " 2.5,\n",
       " 2.5,\n",
       " 2.5,\n",
       " 2.5,\n",
       " 2.5,\n",
       " 2.5,\n",
       " 2.5,\n",
       " 2.5,\n",
       " 2.5,\n",
       " 2.5,\n",
       " 2.5,\n",
       " 2.5,\n",
       " 2.5,\n",
       " 2.5,\n",
       " 2.5,\n",
       " 2.5,\n",
       " 2.5,\n",
       " 2.5,\n",
       " 2.5,\n",
       " 2.5,\n",
       " 2.5,\n",
       " 2.5,\n",
       " 2.5,\n",
       " 2.5,\n",
       " 2.5,\n",
       " 2.5,\n",
       " 2.5,\n",
       " 2.5,\n",
       " 2.5,\n",
       " 2.5,\n",
       " 2.5,\n",
       " 2.5,\n",
       " 2.5,\n",
       " 2.5,\n",
       " 2.5,\n",
       " 2.5,\n",
       " 2.5,\n",
       " 2.5,\n",
       " 2.5,\n",
       " 2.5,\n",
       " 2.5,\n",
       " 2.5,\n",
       " 2.5,\n",
       " 2.5,\n",
       " 2.5,\n",
       " 2.5,\n",
       " 2.5,\n",
       " 2.5,\n",
       " 2.5,\n",
       " 2.5,\n",
       " 2.5,\n",
       " 2.5,\n",
       " 2.5,\n",
       " 2.5,\n",
       " 2.5,\n",
       " 2.5,\n",
       " 2.5,\n",
       " 2.5,\n",
       " 2.5,\n",
       " 2.5,\n",
       " 2.5,\n",
       " 2.5,\n",
       " 2.5,\n",
       " 2.5,\n",
       " 2.5,\n",
       " 2.5,\n",
       " 2.5,\n",
       " 2.5,\n",
       " 2.5,\n",
       " 2.5,\n",
       " 2.5,\n",
       " 2.5,\n",
       " 2.5,\n",
       " 2.5,\n",
       " 2.5,\n",
       " 2.5,\n",
       " 2.5,\n",
       " 2.5,\n",
       " 2.5,\n",
       " 2.5,\n",
       " 2.5,\n",
       " 2.5,\n",
       " 2.5,\n",
       " 2.5,\n",
       " 2.5,\n",
       " 2.5,\n",
       " 2.5,\n",
       " 2.5,\n",
       " 2.5,\n",
       " 2.5,\n",
       " 2.5,\n",
       " 2.5,\n",
       " 2.5,\n",
       " 2.5,\n",
       " 2.5,\n",
       " 2.5,\n",
       " 2.5,\n",
       " 2.5,\n",
       " 2.5,\n",
       " 2.5,\n",
       " 2.5,\n",
       " 2.5,\n",
       " 2.5,\n",
       " 2.5,\n",
       " 2.5,\n",
       " 2.5,\n",
       " 2.5,\n",
       " 2.5,\n",
       " 2.5,\n",
       " 2.5,\n",
       " 2.5,\n",
       " 2.5,\n",
       " 2.5,\n",
       " 2.5,\n",
       " 2.5,\n",
       " 2.5,\n",
       " 2.5,\n",
       " 2.5,\n",
       " 2.5,\n",
       " 2.5,\n",
       " 2.5,\n",
       " 2.5,\n",
       " 2.5,\n",
       " 2.5,\n",
       " 2.5,\n",
       " 2.5,\n",
       " 2.5,\n",
       " 2.5,\n",
       " 2.5,\n",
       " 2.5,\n",
       " 2.5,\n",
       " 2.5,\n",
       " 2.5,\n",
       " 2.5,\n",
       " 2.5,\n",
       " 2.5,\n",
       " 2.5,\n",
       " 2.5,\n",
       " 2.5,\n",
       " 2.5,\n",
       " 2.5,\n",
       " 2.5,\n",
       " 2.5,\n",
       " 2.5,\n",
       " 2.5,\n",
       " 2.5,\n",
       " 2.5,\n",
       " 2.5,\n",
       " 2.5,\n",
       " 2.5,\n",
       " 2.5,\n",
       " 2.5,\n",
       " 2.5,\n",
       " 2.5]"
      ]
     },
     "execution_count": 197,
     "metadata": {},
     "output_type": "execute_result"
    }
   ],
   "source": [
    "data_x"
   ]
  },
  {
   "cell_type": "code",
   "execution_count": null,
   "metadata": {},
   "outputs": [],
   "source": []
  }
 ],
 "metadata": {
  "kernelspec": {
   "display_name": "Python 3",
   "language": "python",
   "name": "python3"
  },
  "language_info": {
   "codemirror_mode": {
    "name": "ipython",
    "version": 3
   },
   "file_extension": ".py",
   "mimetype": "text/x-python",
   "name": "python",
   "nbconvert_exporter": "python",
   "pygments_lexer": "ipython3",
   "version": "3.7.3"
  }
 },
 "nbformat": 4,
 "nbformat_minor": 2
}
