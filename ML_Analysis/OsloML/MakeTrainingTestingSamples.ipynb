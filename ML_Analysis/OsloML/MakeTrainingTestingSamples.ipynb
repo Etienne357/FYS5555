{
 "cells": [
  {
   "cell_type": "code",
   "execution_count": 1,
   "metadata": {},
   "outputs": [],
   "source": [
    "from os import listdir\n",
    "import pandas as pd\n",
    "import numpy as np\n",
    "import h5py\n",
    "import matplotlib.pyplot as plt"
   ]
  },
  {
   "cell_type": "code",
   "execution_count": 2,
   "metadata": {},
   "outputs": [
    {
     "name": "stdout",
     "output_type": "stream",
     "text": [
      "INFO \t Data type is SM_Backgrounds\n"
     ]
    }
   ],
   "source": [
    "indir = \"/scratch3/eirikgr/openData_13TeV/MC/SM_Backgrounds\"\n",
    "# The output file name tag to store the skim options used abvove\n",
    "datatype = indir.split(\"/\")[-1]\n",
    "# In cases there is a trailing / at the end\n",
    "if not datatype: datatype = indir.split(\"/\")[-2]\n",
    "print(\"INFO \\t Data type is {:s}\".format(datatype))\n",
    "skimtag = \"2L_pt25_25_met50\"\n",
    "\n",
    "rBackgroundEvents = 0.5\n",
    "rSignalEvents = 0.5"
   ]
  },
  {
   "cell_type": "code",
   "execution_count": 3,
   "metadata": {},
   "outputs": [
    {
     "name": "stdout",
     "output_type": "stream",
     "text": [
      "Will load the following 10 files:\n",
      "SM_Backgrounds_2L_pt25_25_met50_num_1.h5\n",
      "SM_Backgrounds_2L_pt25_25_met50_num_10.h5\n",
      "SM_Backgrounds_2L_pt25_25_met50_num_2.h5\n",
      "SM_Backgrounds_2L_pt25_25_met50_num_3.h5\n",
      "SM_Backgrounds_2L_pt25_25_met50_num_4.h5\n",
      "SM_Backgrounds_2L_pt25_25_met50_num_5.h5\n",
      "SM_Backgrounds_2L_pt25_25_met50_num_6.h5\n",
      "SM_Backgrounds_2L_pt25_25_met50_num_7.h5\n",
      "SM_Backgrounds_2L_pt25_25_met50_num_8.h5\n",
      "SM_Backgrounds_2L_pt25_25_met50_num_9.h5\n"
     ]
    }
   ],
   "source": [
    "root_files = [f for f in listdir(indir) if (f.endswith('.h5') and f.startswith(datatype+\"_\"+skimtag))]\n",
    "print(\"Will load the following {:d} files:\\n{:s}\".format(len(root_files),\"\\n\".join(sorted(root_files))))"
   ]
  },
  {
   "cell_type": "code",
   "execution_count": 4,
   "metadata": {},
   "outputs": [
    {
     "name": "stdout",
     "output_type": "stream",
     "text": [
      "INFO  \t Opening file 1/10: SM_Backgrounds_2L_pt25_25_met50_num_2.h5\n"
     ]
    },
    {
     "name": "stderr",
     "output_type": "stream",
     "text": [
      "/mn/felt/u1/eirikgr/anaconda2/envs/norootenv/lib/python3.7/site-packages/ipykernel_launcher.py:8: FutureWarning: Method .as_matrix will be removed in a future version. Use .values instead.\n",
      "  \n"
     ]
    },
    {
     "name": "stdout",
     "output_type": "stream",
     "text": [
      "Doing DSID 1. In this file: 7 new DSIDs\n",
      "Doing DSID 2. In this file: 7 new DSIDs\n",
      "Doing DSID 3. In this file: 7 new DSIDs\n",
      "Doing DSID 4. In this file: 7 new DSIDs\n",
      "Doing DSID 5. In this file: 7 new DSIDs\n",
      "Doing DSID 6. In this file: 7 new DSIDs\n",
      "Doing DSID 7. In this file: 7 new DSIDs\n",
      "INFO  \t Opening file 2/10: SM_Backgrounds_2L_pt25_25_met50_num_5.h5\n",
      "Doing DSID 8. In this file: 4 new DSIDs\n",
      "Doing DSID 9. In this file: 4 new DSIDs\n",
      "Doing DSID 10. In this file: 4 new DSIDs\n",
      "Writing to file /scratch3/eirikgr/openData_13TeV/MC/SM_Backgrounds/testing_bkg_2L_pt25_25_met50_1.h5\n"
     ]
    },
    {
     "name": "stderr",
     "output_type": "stream",
     "text": [
      "/mn/felt/u1/eirikgr/anaconda2/envs/norootenv/lib/python3.7/site-packages/pandas/core/generic.py:2531: PerformanceWarning: \n",
      "your performance may suffer as PyTables will pickle object types that it cannot\n",
      "map directly to c-types [inferred_type->mixed,key->block4_values] [items->['lep_pt', 'lep_eta', 'lep_phi', 'lep_E', 'lep_z0', 'lep_charge', 'lep_type', 'lep_isTightID', 'lep_ptcone30', 'lep_etcone20', 'lep_trackd0pvunbiased', 'lep_tracksigd0pvunbiased', 'lep_pt_syst', 'MCType']]\n",
      "\n",
      "  pytables.to_hdf(path_or_buf, key, self, **kwargs)\n"
     ]
    },
    {
     "name": "stdout",
     "output_type": "stream",
     "text": [
      "Writing to file /scratch3/eirikgr/openData_13TeV/MC/SM_Backgrounds/training_bkg_2L_pt25_25_met50_1.h5\n",
      "Doing DSID 11. In this file: 4 new DSIDs\n",
      "INFO  \t Opening file 3/10: SM_Backgrounds_2L_pt25_25_met50_num_4.h5\n",
      "Doing DSID 12. In this file: 19 new DSIDs\n",
      "Doing DSID 13. In this file: 19 new DSIDs\n",
      "Doing DSID 14. In this file: 19 new DSIDs\n",
      "Doing DSID 15. In this file: 19 new DSIDs\n",
      "Doing DSID 16. In this file: 19 new DSIDs\n",
      "Doing DSID 17. In this file: 19 new DSIDs\n",
      "Doing DSID 18. In this file: 19 new DSIDs\n",
      "Doing DSID 19. In this file: 19 new DSIDs\n",
      "Doing DSID 20. In this file: 19 new DSIDs\n",
      "Writing to file /scratch3/eirikgr/openData_13TeV/MC/SM_Backgrounds/testing_bkg_2L_pt25_25_met50_2.h5\n",
      "Writing to file /scratch3/eirikgr/openData_13TeV/MC/SM_Backgrounds/training_bkg_2L_pt25_25_met50_2.h5\n",
      "Doing DSID 21. In this file: 19 new DSIDs\n",
      "Doing DSID 22. In this file: 19 new DSIDs\n",
      "Doing DSID 23. In this file: 19 new DSIDs\n",
      "Doing DSID 24. In this file: 19 new DSIDs\n",
      "Doing DSID 25. In this file: 19 new DSIDs\n",
      "Doing DSID 26. In this file: 19 new DSIDs\n",
      "Doing DSID 27. In this file: 19 new DSIDs\n",
      "Doing DSID 28. In this file: 19 new DSIDs\n",
      "Doing DSID 29. In this file: 19 new DSIDs\n",
      "Doing DSID 30. In this file: 19 new DSIDs\n",
      "Writing to file /scratch3/eirikgr/openData_13TeV/MC/SM_Backgrounds/testing_bkg_2L_pt25_25_met50_2.h5\n",
      "Writing to file /scratch3/eirikgr/openData_13TeV/MC/SM_Backgrounds/training_bkg_2L_pt25_25_met50_2.h5\n",
      "INFO  \t Opening file 4/10: SM_Backgrounds_2L_pt25_25_met50_num_8.h5\n",
      "Doing DSID 31. In this file: 28 new DSIDs\n",
      "Doing DSID 32. In this file: 28 new DSIDs\n",
      "Doing DSID 33. In this file: 28 new DSIDs\n",
      "Doing DSID 34. In this file: 28 new DSIDs\n",
      "Doing DSID 35. In this file: 28 new DSIDs\n",
      "Doing DSID 36. In this file: 28 new DSIDs\n",
      "Doing DSID 37. In this file: 28 new DSIDs\n",
      "Doing DSID 38. In this file: 28 new DSIDs\n",
      "Doing DSID 39. In this file: 28 new DSIDs\n",
      "Doing DSID 40. In this file: 28 new DSIDs\n",
      "Writing to file /scratch3/eirikgr/openData_13TeV/MC/SM_Backgrounds/testing_bkg_2L_pt25_25_met50_3.h5\n",
      "Writing to file /scratch3/eirikgr/openData_13TeV/MC/SM_Backgrounds/training_bkg_2L_pt25_25_met50_3.h5\n",
      "Doing DSID 41. In this file: 28 new DSIDs\n",
      "Doing DSID 42. In this file: 28 new DSIDs\n",
      "Doing DSID 43. In this file: 28 new DSIDs\n",
      "Doing DSID 44. In this file: 28 new DSIDs\n",
      "Doing DSID 45. In this file: 28 new DSIDs\n",
      "Doing DSID 46. In this file: 28 new DSIDs\n",
      "Doing DSID 47. In this file: 28 new DSIDs\n",
      "Doing DSID 48. In this file: 28 new DSIDs\n",
      "Doing DSID 49. In this file: 28 new DSIDs\n",
      "Doing DSID 50. In this file: 28 new DSIDs\n",
      "Writing to file /scratch3/eirikgr/openData_13TeV/MC/SM_Backgrounds/testing_bkg_2L_pt25_25_met50_3.h5\n",
      "Writing to file /scratch3/eirikgr/openData_13TeV/MC/SM_Backgrounds/training_bkg_2L_pt25_25_met50_3.h5\n",
      "Doing DSID 51. In this file: 28 new DSIDs\n",
      "Doing DSID 52. In this file: 28 new DSIDs\n",
      "Doing DSID 53. In this file: 28 new DSIDs\n",
      "Doing DSID 54. In this file: 28 new DSIDs\n",
      "Doing DSID 55. In this file: 28 new DSIDs\n",
      "Doing DSID 56. In this file: 28 new DSIDs\n",
      "Doing DSID 57. In this file: 28 new DSIDs\n",
      "Doing DSID 58. In this file: 28 new DSIDs\n",
      "INFO  \t Opening file 5/10: SM_Backgrounds_2L_pt25_25_met50_num_3.h5\n",
      "Doing DSID 59. In this file: 1 new DSIDs\n",
      "INFO  \t Opening file 6/10: SM_Backgrounds_2L_pt25_25_met50_num_1.h5\n",
      "Doing DSID 60. In this file: 20 new DSIDs\n",
      "Writing to file /scratch3/eirikgr/openData_13TeV/MC/SM_Backgrounds/testing_bkg_2L_pt25_25_met50_5.h5\n",
      "Writing to file /scratch3/eirikgr/openData_13TeV/MC/SM_Backgrounds/training_bkg_2L_pt25_25_met50_5.h5\n",
      "Doing DSID 61. In this file: 20 new DSIDs\n",
      "Doing DSID 62. In this file: 20 new DSIDs\n",
      "Doing DSID 63. In this file: 20 new DSIDs\n",
      "Doing DSID 64. In this file: 20 new DSIDs\n",
      "Doing DSID 65. In this file: 20 new DSIDs\n",
      "Doing DSID 66. In this file: 20 new DSIDs\n",
      "Doing DSID 67. In this file: 20 new DSIDs\n",
      "Doing DSID 68. In this file: 20 new DSIDs\n",
      "Doing DSID 69. In this file: 20 new DSIDs\n",
      "Doing DSID 70. In this file: 20 new DSIDs\n",
      "Writing to file /scratch3/eirikgr/openData_13TeV/MC/SM_Backgrounds/testing_bkg_2L_pt25_25_met50_5.h5\n",
      "Writing to file /scratch3/eirikgr/openData_13TeV/MC/SM_Backgrounds/training_bkg_2L_pt25_25_met50_5.h5\n",
      "Doing DSID 71. In this file: 20 new DSIDs\n",
      "Doing DSID 72. In this file: 20 new DSIDs\n",
      "Doing DSID 73. In this file: 20 new DSIDs\n",
      "Doing DSID 74. In this file: 20 new DSIDs\n",
      "Doing DSID 75. In this file: 20 new DSIDs\n",
      "Doing DSID 76. In this file: 20 new DSIDs\n",
      "Doing DSID 77. In this file: 20 new DSIDs\n",
      "Doing DSID 78. In this file: 20 new DSIDs\n",
      "Doing DSID 79. In this file: 20 new DSIDs\n",
      "INFO  \t Opening file 7/10: SM_Backgrounds_2L_pt25_25_met50_num_6.h5\n",
      "Doing DSID 80. In this file: 5 new DSIDs\n",
      "Writing to file /scratch3/eirikgr/openData_13TeV/MC/SM_Backgrounds/testing_bkg_2L_pt25_25_met50_6.h5\n",
      "Writing to file /scratch3/eirikgr/openData_13TeV/MC/SM_Backgrounds/training_bkg_2L_pt25_25_met50_6.h5\n",
      "Doing DSID 81. In this file: 5 new DSIDs\n",
      "Doing DSID 82. In this file: 5 new DSIDs\n",
      "Doing DSID 83. In this file: 5 new DSIDs\n",
      "Doing DSID 84. In this file: 5 new DSIDs\n",
      "INFO  \t Opening file 8/10: SM_Backgrounds_2L_pt25_25_met50_num_10.h5\n",
      "Doing DSID 85. In this file: 2 new DSIDs\n",
      "Doing DSID 86. In this file: 2 new DSIDs\n",
      "INFO  \t Opening file 9/10: SM_Backgrounds_2L_pt25_25_met50_num_9.h5\n",
      "Doing DSID 87. In this file: 10 new DSIDs\n",
      "Doing DSID 88. In this file: 10 new DSIDs\n",
      "Doing DSID 89. In this file: 10 new DSIDs\n",
      "Doing DSID 90. In this file: 10 new DSIDs\n",
      "Writing to file /scratch3/eirikgr/openData_13TeV/MC/SM_Backgrounds/testing_bkg_2L_pt25_25_met50_8.h5\n",
      "Writing to file /scratch3/eirikgr/openData_13TeV/MC/SM_Backgrounds/training_bkg_2L_pt25_25_met50_8.h5\n",
      "Doing DSID 91. In this file: 10 new DSIDs\n",
      "Doing DSID 92. In this file: 10 new DSIDs\n",
      "Doing DSID 93. In this file: 10 new DSIDs\n",
      "Doing DSID 94. In this file: 10 new DSIDs\n",
      "Doing DSID 95. In this file: 10 new DSIDs\n",
      "Doing DSID 96. In this file: 10 new DSIDs\n",
      "INFO  \t Opening file 10/10: SM_Backgrounds_2L_pt25_25_met50_num_7.h5\n",
      "Doing DSID 97. In this file: 9 new DSIDs\n",
      "Doing DSID 98. In this file: 9 new DSIDs\n",
      "Doing DSID 99. In this file: 9 new DSIDs\n",
      "Doing DSID 100. In this file: 9 new DSIDs\n",
      "Writing to file /scratch3/eirikgr/openData_13TeV/MC/SM_Backgrounds/testing_bkg_2L_pt25_25_met50_9.h5\n",
      "Writing to file /scratch3/eirikgr/openData_13TeV/MC/SM_Backgrounds/training_bkg_2L_pt25_25_met50_9.h5\n",
      "Doing DSID 101. In this file: 9 new DSIDs\n",
      "Doing DSID 102. In this file: 9 new DSIDs\n",
      "Doing DSID 103. In this file: 9 new DSIDs\n",
      "Doing DSID 104. In this file: 9 new DSIDs\n",
      "Doing DSID 105. In this file: 9 new DSIDs\n",
      "Writing to file /scratch3/eirikgr/openData_13TeV/MC/SM_Backgrounds/testing_bkg_2L_pt25_25_met50_10.h5\n",
      "Writing to file /scratch3/eirikgr/openData_13TeV/MC/SM_Backgrounds/training_bkg_2L_pt25_25_met50_10.h5\n"
     ]
    }
   ],
   "source": [
    "nfile = 0\n",
    "nx = 0\n",
    "# Read all the root files with a given skim\n",
    "for f in root_files:\n",
    "    print(\"INFO  \\t Opening file {:d}/{:d}: {:s}\".format(nfile+1,len(root_files),f))\n",
    "    df = pd.read_hdf(indir+\"/\"+f, 'mini')\n",
    "    # Find the unique DSIDs in the file\n",
    "    dsid = np.unique(df.iloc[:,[1]].as_matrix())\n",
    "    # Loop over each DSID and put random selections into training and testing sample \n",
    "    for ids in dsid:\n",
    "        print(\"Doing DSID {:d}. In this file: {:d} new DSIDs\".format(nx+1,len(dsid)))\n",
    "        newdf = df.loc[df['channelNumber'] == ids]\n",
    "        # If X_test/train exists: concatenate, \n",
    "        # If not (i.e. we just wrote to a file): start new ones\n",
    "        try:\n",
    "            midl = newdf.sample(frac=rBackgroundEvents)\n",
    "            X_train = pd.concat([X_train,midl],axis=0)\n",
    "            X_test  = pd.concat([X_test, newdf.drop(midl.index.values)],axis=0)\n",
    "            del [midl]\n",
    "        except:\n",
    "            X_train = newdf.sample(frac=rBackgroundEvents)\n",
    "            X_test  = newdf.drop(X_train.index.values)\n",
    "        del [newdf]\n",
    "        nx += 1\n",
    "        # Dump testing/training samples to file every now and then (here: every tenth DSID)\n",
    "        if nx%10 == 0:\n",
    "            path = indir+\"/testing_bkg_%s_%i.h5\"%(skimtag,nfile)\n",
    "            print(\"Writing to file {:s}\".format(path))\n",
    "            X_test.to_hdf(path,key='result', mode='w')\n",
    "            path = indir+\"/training_bkg_%s_%i.h5\"%(skimtag,nfile)\n",
    "            print(\"Writing to file {:s}\".format(path))\n",
    "            X_train.to_hdf(path,key='result', mode='w')\n",
    "            del [X_test]\n",
    "            del [X_train]\n",
    "    nfile += 1\n",
    "    #if nfile > 2: break\n",
    "    del [df]\n",
    "    \n",
    "# Needed in case we left without writing the last DSIDs to file\n",
    "if nx%10 != 0:\n",
    "    path = indir+\"/testing_bkg_%s_%i.h5\"%(skimtag,nfile)\n",
    "    print(\"Writing to file {:s}\".format(path))\n",
    "    X_test.to_hdf(path,key='result', mode='w')\n",
    "    path = indir+\"/training_bkg_%s_%i.h5\"%(skimtag,nfile)\n",
    "    print(\"Writing to file {:s}\".format(path))\n",
    "    X_train.to_hdf(path,key='result', mode='w')\n",
    "    del [X_test]\n",
    "    del [X_train]"
   ]
  },
  {
   "cell_type": "code",
   "execution_count": 5,
   "metadata": {},
   "outputs": [
    {
     "name": "stdout",
     "output_type": "stream",
     "text": [
      "Will load the following 9 files:\n",
      "testing_bkg_2L_pt25_25_met50_1.h5\n",
      "testing_bkg_2L_pt25_25_met50_10.h5\n",
      "testing_bkg_2L_pt25_25_met50_2.h5\n",
      "testing_bkg_2L_pt25_25_met50_3.h5\n",
      "testing_bkg_2L_pt25_25_met50_5.h5\n",
      "testing_bkg_2L_pt25_25_met50_6.h5\n",
      "testing_bkg_2L_pt25_25_met50_7.h5\n",
      "testing_bkg_2L_pt25_25_met50_8.h5\n",
      "testing_bkg_2L_pt25_25_met50_9.h5\n"
     ]
    }
   ],
   "source": [
    "training_files = [f for f in listdir(indir) if (f.endswith('.h5') and f.startswith(\"testing_bkg_\"+skimtag))]\n",
    "print(\"Will load the following {:d} files:\\n{:s}\".format(len(training_files),\"\\n\".join(sorted(training_files))))"
   ]
  },
  {
   "cell_type": "code",
   "execution_count": 6,
   "metadata": {},
   "outputs": [
    {
     "name": "stdout",
     "output_type": "stream",
     "text": [
      "INFO  \t Opening file 1/10: testing_bkg_2L_pt25_25_met50_1.h5\n",
      "INFO  \t Opening file 1/10: testing_bkg_2L_pt25_25_met50_3.h5\n",
      "INFO  \t Opening file 1/10: testing_bkg_2L_pt25_25_met50_10.h5\n",
      "INFO  \t Opening file 1/10: testing_bkg_2L_pt25_25_met50_2.h5\n",
      "INFO  \t Opening file 1/10: testing_bkg_2L_pt25_25_met50_8.h5\n",
      "INFO  \t Opening file 1/10: testing_bkg_2L_pt25_25_met50_6.h5\n",
      "INFO  \t Opening file 1/10: testing_bkg_2L_pt25_25_met50_5.h5\n",
      "INFO  \t Opening file 1/10: testing_bkg_2L_pt25_25_met50_7.h5\n"
     ]
    },
    {
     "name": "stderr",
     "output_type": "stream",
     "text": [
      "/mn/felt/u1/eirikgr/anaconda2/envs/norootenv/lib/python3.7/site-packages/ipykernel_launcher.py:6: FutureWarning: Sorting because non-concatenation axis is not aligned. A future version\n",
      "of pandas will change to not sort by default.\n",
      "\n",
      "To accept the future behavior, pass 'sort=False'.\n",
      "\n",
      "To retain the current behavior and silence the warning, pass 'sort=True'.\n",
      "\n",
      "  \n"
     ]
    },
    {
     "name": "stdout",
     "output_type": "stream",
     "text": [
      "INFO  \t Opening file 1/10: testing_bkg_2L_pt25_25_met50_9.h5\n"
     ]
    }
   ],
   "source": [
    "nfile = 0\n",
    "for f in training_files:\n",
    "    print(\"INFO  \\t Opening file {:d}/{:d}: {:s}\".format(nfile+1,len(root_files),f))\n",
    "    df = pd.read_hdf(indir+\"/\"+f, 'result')\n",
    "    try:\n",
    "        X_train = pd.concat([X_train,df],axis=0)\n",
    "    except:\n",
    "        X_train = df\n",
    "    del [df]\n",
    "    nfile += 1\n",
    "    #break"
   ]
  },
  {
   "cell_type": "code",
   "execution_count": 7,
   "metadata": {},
   "outputs": [
    {
     "data": {
      "text/plain": [
       "{'MCType': 0,\n",
       " 'channelNumber': 1,\n",
       " 'eventNumber': 2,\n",
       " 'isSignal': 3,\n",
       " 'jet_n': 4,\n",
       " 'lep_E': 5,\n",
       " 'lep_charge': 6,\n",
       " 'lep_eta': 7,\n",
       " 'lep_etcone20': 8,\n",
       " 'lep_isTightID': 9,\n",
       " 'lep_n': 10,\n",
       " 'lep_phi': 11,\n",
       " 'lep_pt': 12,\n",
       " 'lep_pt_syst': 13,\n",
       " 'lep_ptcone30': 14,\n",
       " 'lep_trackd0pvunbiased': 15,\n",
       " 'lep_tracksigd0pvunbiased': 16,\n",
       " 'lep_type': 17,\n",
       " 'lep_z0': 18,\n",
       " 'met_et': 19,\n",
       " 'met_et_syst': 20,\n",
       " 'met_phi': 21,\n",
       " 'wgt': 22}"
      ]
     },
     "execution_count": 7,
     "metadata": {},
     "output_type": "execute_result"
    }
   ],
   "source": [
    "i = 0\n",
    "idx = {}\n",
    "for key in X_train.keys():\n",
    "    idx[key] = i\n",
    "    i += 1\n",
    "idx"
   ]
  },
  {
   "cell_type": "code",
   "execution_count": 27,
   "metadata": {},
   "outputs": [
    {
     "data": {
      "text/plain": [
       "<matplotlib.axes._subplots.AxesSubplot at 0x7f6fd5b32c50>"
      ]
     },
     "execution_count": 27,
     "metadata": {},
     "output_type": "execute_result"
    },
    {
     "data": {
      "image/png": "[encoded data removed]",
      "text/plain": [
       "<Figure size 432x288 with 1 Axes>"
      ]
     },
     "metadata": {
      "needs_background": "light"
     },
     "output_type": "display_data"
    }
   ],
   "source": [
    "X_train.plot(kind='hist')"
   ]
  },
  {
   "cell_type": "code",
   "execution_count": null,
   "metadata": {},
   "outputs": [],
   "source": [
    "pt1 = np.arange(X_train.shape[0])\n",
    "for i in range(X_train.shape[0]):\n",
    "    if i%100 == 0: print(\"Doing {:d}/{:d}\".format(i,X_train.shape[0]))\n",
    "    pt1[i] = X_train.values[:][i][idx['lep_pt']][0]"
   ]
  }
 ],
 "metadata": {
  "kernelspec": {
   "display_name": "Python 3",
   "language": "python",
   "name": "python3"
  },
  "language_info": {
   "codemirror_mode": {
    "name": "ipython",
    "version": 3
   },
   "file_extension": ".py",
   "mimetype": "text/x-python",
   "name": "python",
   "nbconvert_exporter": "python",
   "pygments_lexer": "ipython3",
   "version": "3.7.3"
  }
 },
 "nbformat": 4,
 "nbformat_minor": 2
}
