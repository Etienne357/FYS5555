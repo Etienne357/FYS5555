{
 "cells": [
  {
   "cell_type": "code",
   "execution_count": null,
   "metadata": {},
   "outputs": [],
   "source": [
    "from IPython.core.display import display, HTML\n",
    "display(HTML(\"<style>.container { width:100% !important; }</style>\"))"
   ]
  },
  {
   "cell_type": "code",
   "execution_count": null,
   "metadata": {},
   "outputs": [],
   "source": [
    "import pandas as pd"
   ]
  },
  {
   "cell_type": "code",
   "execution_count": null,
   "metadata": {},
   "outputs": [],
   "source": [
    "bkg_test0=pd.read_hdf(\"/home/michael/Desktop/OpenData/SM_Backgrounds/testing_bkg_2L_pt25_25_met50_0.h5\")\n",
    "bkg_test1=pd.read_hdf(\"/home/michael/Desktop/OpenData/SM_Backgrounds/testing_bkg_2L_pt25_25_met50_1.h5\")\n",
    "bkg_test2=pd.read_hdf(\"/home/michael/Desktop/OpenData/SM_Backgrounds/testing_bkg_2L_pt25_25_met50_2.h5\")\n",
    "bkg_test3=pd.read_hdf(\"/home/michael/Desktop/OpenData/SM_Backgrounds/testing_bkg_2L_pt25_25_met50_3.h5\")\n",
    "bkg_test5=pd.read_hdf(\"/home/michael/Desktop/OpenData/SM_Backgrounds/testing_bkg_2L_pt25_25_met50_5.h5\")\n",
    "bkg_test7=pd.read_hdf(\"/home/michael/Desktop/OpenData/SM_Backgrounds/testing_bkg_2L_pt25_25_met50_7.h5\")\n",
    "bkg_test8=pd.read_hdf(\"/home/michael/Desktop/OpenData/SM_Backgrounds/testing_bkg_2L_pt25_25_met50_8.h5\")\n",
    "bkg_test9=pd.read_hdf(\"/home/michael/Desktop/OpenData/SM_Backgrounds/testing_bkg_2L_pt25_25_met50_9.h5\")\n",
    "sig_test0=pd.read_hdf(\"/home/michael/Desktop/OpenData/BSM_Signal_Samples/BSM_Signal_Samples/testing_sig_2L_pt25_25_met50_0.h5\")\n",
    "sig_test1=pd.read_hdf(\"/home/michael/Desktop/OpenData/BSM_Signal_Samples/BSM_Signal_Samples/testing_sig_2L_pt25_25_met50_1.h5\")\n",
    "frames = [bkg_test0,bkg_test1,bkg_test2,bkg_test3,bkg_test5,bkg_test7,bkg_test8,bkg_test9,sig_test0,sig_test1]\n",
    "test_merged = pd.concat(frames)"
   ]
  },
  {
   "cell_type": "code",
   "execution_count": null,
   "metadata": {},
   "outputs": [],
   "source": [
    "test_merged.head()"
   ]
  },
  {
   "cell_type": "code",
   "execution_count": null,
   "metadata": {},
   "outputs": [],
   "source": []
  },
  {
   "cell_type": "code",
   "execution_count": null,
   "metadata": {},
   "outputs": [],
   "source": []
  }
 ],
 "metadata": {
  "kernelspec": {
   "display_name": "Python 3",
   "language": "python",
   "name": "python3"
  },
  "language_info": {
   "codemirror_mode": {
    "name": "ipython",
    "version": 3
   },
   "file_extension": ".py",
   "mimetype": "text/x-python",
   "name": "python",
   "nbconvert_exporter": "python",
   "pygments_lexer": "ipython3",
   "version": "3.7.3"
  }
 },
 "nbformat": 4,
 "nbformat_minor": 2
}
