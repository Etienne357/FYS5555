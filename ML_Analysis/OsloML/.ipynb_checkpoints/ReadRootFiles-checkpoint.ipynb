{
 "cells": [
  {
   "cell_type": "code",
   "execution_count": 1,
   "metadata": {},
   "outputs": [
    {
     "ename": "ModuleNotFoundError",
     "evalue": "No module named 'import_ipynb'",
     "output_type": "error",
     "traceback": [
      "\u001b[0;31m---------------------------------------------------------------------------\u001b[0m",
      "\u001b[0;31mModuleNotFoundError\u001b[0m                       Traceback (most recent call last)",
      "\u001b[0;32m<ipython-input-1-9fdf49c0ae21>\u001b[0m in \u001b[0;36m<module>\u001b[0;34m\u001b[0m\n\u001b[0;32m----> 1\u001b[0;31m \u001b[0;32mimport\u001b[0m \u001b[0mimport_ipynb\u001b[0m\u001b[0;34m\u001b[0m\u001b[0;34m\u001b[0m\u001b[0m\n\u001b[0m\u001b[1;32m      2\u001b[0m \u001b[0;32mfrom\u001b[0m \u001b[0mOpenDataPandaFramework\u001b[0m \u001b[0;32mimport\u001b[0m \u001b[0;34m*\u001b[0m\u001b[0;34m\u001b[0m\u001b[0;34m\u001b[0m\u001b[0m\n",
      "\u001b[0;31mModuleNotFoundError\u001b[0m: No module named 'import_ipynb'"
     ]
    }
   ],
   "source": [
    "import import_ipynb\n",
    "from OpenDataPandaFramework import *"
   ]
  },
  {
   "cell_type": "markdown",
   "metadata": {},
   "source": [
    "The following parameters should be set to specify how many events will be read in every chunk, the directory for the files you would like to convert into hd5 files and a tag wich will be appended to the output filename to reflect the skimming applied"
   ]
  },
  {
   "cell_type": "code",
   "execution_count": null,
   "metadata": {},
   "outputs": [],
   "source": [
    "# The luminosity we run over\n",
    "lumi = 10.6\n",
    "# How many events to read in each round\n",
    "chunksize = 500000\n",
    "# How often to write to hd5 file (the smaller, the more files)\n",
    "printevry = 500000\n",
    "# Directory containing the input file (must end with .root)\n",
    "indir   = \"/home/michael/Desktop/OpenData/data\"\n",
    "#indir   = \"/scratch3/eirikgr/openData_13TeV/MC/SM_Backgrounds/\"\n",
    "# The output file name tag to store the skim options used abvove\n",
    "datatype = indir.split(\"/\")[-1]\n",
    "# In cases there is a trailing / at the end\n",
    "if not datatype: datatype = indir.split(\"/\")[-2]\n",
    "print(\"INFO \\t Data type is {:s}\".format(datatype))\n",
    "\n",
    "# Define if it is signal or background (important for ML classification)\n",
    "isMC = False\n",
    "isData = False\n",
    "isSignal = False\n",
    "if datatype == \"SM_Backgrounds\":\n",
    "    isMC = True\n",
    "elif datatype == \"BSM_Signal_Samples\":\n",
    "    isSignal = True\n",
    "elif datatype == \"Data\":\n",
    "    isData = True\n",
    "else:\n",
    "    print(\"ERROR \\t Datatype {:s} is unknown. Setting as background\".format(datatype))\n",
    "    isMC = True\n",
    "    \n",
    "nlep = 2\n",
    "lep_ptcut = [25000,25000]\n",
    "skimtag = \"2L_pt25_25_met50\""
   ]
  },
  {
   "cell_type": "markdown",
   "metadata": {},
   "source": [
    "Specify the branches to keep in the hd5 files. If you like to check all the availale brances open a file and do events.keys()"
   ]
  },
  {
   "cell_type": "code",
   "execution_count": null,
   "metadata": {},
   "outputs": [],
   "source": [
    "branches = ['eventNumber','channelNumber',\n",
    "            'mcWeight','scaleFactor_PILEUP','scaleFactor_ELE','scaleFactor_MUON',\n",
    "            'scaleFactor_BTAG','scaleFactor_LepTRIGGER',\n",
    "            'met_*','jet_*','lep_*']#'jet_n']#'jet_*']#,'photon_*','fatjet_*','tau_*','lep_*',\n",
    "            #'ditau_m','truth_*']\n",
    "#branches = [\"*\"]"
   ]
  },
  {
   "cell_type": "code",
   "execution_count": null,
   "metadata": {},
   "outputs": [],
   "source": [
    "res = OpenDataPandaFramework(indir,nlep, chunksize, printevry, datatype, skimtag, isMC, isData, isSignal, lep_ptcut, branches, lumi)"
   ]
  },
  {
   "cell_type": "code",
   "execution_count": null,
   "metadata": {},
   "outputs": [],
   "source": [
    "del[res]"
   ]
  },
  {
   "cell_type": "code",
   "execution_count": null,
   "metadata": {},
   "outputs": [],
   "source": []
  }
 ],
 "metadata": {
  "kernelspec": {
   "display_name": "Python 3",
   "language": "python",
   "name": "python3"
  },
  "language_info": {
   "codemirror_mode": {
    "name": "ipython",
    "version": 3
   },
   "file_extension": ".py",
   "mimetype": "text/x-python",
   "name": "python",
   "nbconvert_exporter": "python",
   "pygments_lexer": "ipython3",
   "version": "3.7.3"
  }
 },
 "nbformat": 4,
 "nbformat_minor": 2
}
