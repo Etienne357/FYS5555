{
 "cells": [
  {
   "cell_type": "markdown",
   "metadata": {},
   "source": [
    "# Context - Machine learning for material development\n",
    "\n",
    "In order to accelerate the development of material design, the ability of machine learning as a tool is looked into. We want to test whether machine learning can predict new functional materials in relevant fields. In this case, we train the machine learning algorithm to judge whether a \"compound\" can be a prospective thermoelectric material. Thermoelectric materials are those materials that can generate electricity due to a temperature gradient across it. \"Band gap\" is a property used here to determine the ability of a material to be thermo-electric. The band-gap is influenced by input descriptors.  The details of dataset are given below. \n",
    "\n",
    "Three main components needed to do this task are :  descriptors (features), training data and a machine learning algorithm.​\n",
    "\n",
    "## Descriptors : \n",
    "These are properties of material that can be used to compare one compound to another compound. In this case, the descriptors are information about the chemical elements that form the new compound. We have downloaded information for about 70000 compounds. A compound is made of chemical elements. For example, water is a compound with formulae H2O. In machine learning language, descriptors are input feature data to be used by the machine learning algorithm. Thus, Descriptors are sort of prior chemical knowledge thats helps the machine learning model to look \"where\" the pattern is in the periodic table, thus allowing the algorithm to determine \"what\" the pattern is. The descriptors are : \n",
    "\n",
    "**Attribute Information:**\n",
    "1. Classification based on \"Band Gap\" Attribute [**y1c** variable below in code]\n",
    "\n",
    "    Class 1 could be potential Thermo-electric material (Materials with Band Gap > 0)\n",
    "    \n",
    "    Class 2 is Non-Thermoelectric material (Materials with Band gap = 0)\n",
    "\n",
    "\n",
    "**Input features - 55 features influencing the Band-gap (and hence the class):**\n",
    "1. Average atomic number \n",
    "2. Average group number  \n",
    "3. Valence electron variance\n",
    "4. Electronegativity variance \n",
    "5. Average atomic radius \n",
    "6.  \n",
    "7. \n",
    "8. \n",
    "55. Electronic configuration  \n",
    "\n",
    "\n",
    "##  Training data [Variables : X_train, X_test, y_train, y_test]: \n",
    "This is downloaded from the materials project website (https://materialsproject.org/) and arranged using a in-house script. This data is made available to you below for testing different machine learning algorithms. \n",
    "\n",
    "##  Machine learning algorithm : \n",
    "you have to test the performance of different machine learning algorithms on the variables below \n",
    "*X_train, X_test, y_train, y_test*\n",
    "and see which is best in classifying. \n",
    "\n",
    "##  Class distribution:\n",
    "    **Nearly 80% Class 1 and 20% in Class 2**"
   ]
  },
  {
   "cell_type": "code",
   "execution_count": 1,
   "metadata": {
    "collapsed": true
   },
   "outputs": [],
   "source": [
    "import numpy as np \n",
    "import pandas as pd \n",
    "%matplotlib inline \n",
    "import matplotlib.pyplot as plt\n",
    "import matplotlib.gridspec as gridspec"
   ]
  },
  {
   "cell_type": "code",
   "execution_count": 2,
   "metadata": {},
   "outputs": [
    {
     "name": "stderr",
     "output_type": "stream",
     "text": [
      "/usr/local/lib/python3.4/dist-packages/ipykernel_launcher.py:3: SettingWithCopyWarning: \n",
      "A value is trying to be set on a copy of a slice from a DataFrame\n",
      "\n",
      "See the caveats in the documentation: http://pandas.pydata.org/pandas-docs/stable/indexing.html#indexing-view-versus-copy\n",
      "  This is separate from the ipykernel package so we can avoid doing imports until\n"
     ]
    },
    {
     "name": "stdout",
     "output_type": "stream",
     "text": [
      "Input data feature (12950, 55)\n",
      "  \n",
      "Peek into data structure\n",
      "  \n",
      "    atomic_mass variance  atomic_mass mean  atomic_radius variance  \\\n",
      "23            146.747994         22.277706                0.047900   \n",
      "24              6.687521         11.795160                0.096600   \n",
      "35              3.147166         11.286457                0.068878   \n",
      "47           1111.119263         64.021250                0.031875   \n",
      "49           1798.090760         47.445250                0.050625   \n",
      "\n",
      "    atomic_radius mean  X variance    X mean  valence_electrons variance  \\\n",
      "23            1.172800    0.561188  1.915680                    5.533696   \n",
      "24            0.830000    0.575096  2.432000                    2.160000   \n",
      "35            0.807143    0.301824  2.325714                    1.102041   \n",
      "47            1.325000    0.501819  1.852500                    5.187500   \n",
      "49            1.225000    0.428075  2.025000                    4.187500   \n",
      "\n",
      "    valence_electrons mean  Total group #1  Total group #2 ...   216  217  \\\n",
      "23                3.952000            48.0             0.0 ...     0    0   \n",
      "24                3.800000             2.0             0.0 ...     0    0   \n",
      "35                3.571429             1.0             0.0 ...     0    0   \n",
      "47                3.750000             1.0             0.0 ...     0    0   \n",
      "49                4.250000             1.0             0.0 ...     0    0   \n",
      "\n",
      "    218  220  221  224  225  227  229  230  \n",
      "23    0    0    0    0    0    0    0    0  \n",
      "24    0    0    0    0    0    0    0    0  \n",
      "35    0    0    0    0    0    0    0    0  \n",
      "47    0    0    0    0    0    0    0    0  \n",
      "49    0    0    0    0    0    0    0    0  \n",
      "\n",
      "[5 rows x 240 columns]\n",
      "  \n",
      "percent of class 1 79.84555984555985\n"
     ]
    }
   ],
   "source": [
    "datamldb = pd.read_csv('./data/initial_db.csv',sep=',')\n",
    "datamldb2=datamldb[datamldb['full_formula'].str.contains(\"Li\")]\n",
    "datamldb2.drop(['Unnamed: 63','electrical_resistivity variance','electrical_resistivity mean','n_units_in_cell','density'],inplace=True,axis = 1)\n",
    "datamldb=datamldb2.dropna(axis=0, how='any', thresh=None, subset=None, inplace=False)\n",
    "S300099=datamldb.drop(['band_gap','e_above_hull','pretty_formula','full_formula'], axis=1).copy()\n",
    "\n",
    "print(\"Input data feature\",S300099.shape)\n",
    "\n",
    "#One hot encoding for \"Symmetry Group\"\n",
    "S300099_symmetry = pd.get_dummies(S300099['symmetry_group'])\n",
    "S300099new=S300099.drop(['symmetry_group'], axis=1).copy()\n",
    "S300099new = pd.concat([S300099new,S300099_symmetry], axis=1)\n",
    "\n",
    "\n",
    "print(\"  \")\n",
    "print(\"Peek into data structure\")\n",
    "print(\"  \")\n",
    "print(S300099new.head())\n",
    "\n",
    "from sklearn import preprocessing\n",
    "S300099new_scaled = preprocessing.scale(S300099new)\n",
    "y2 = datamldb[['band_gap', 'e_above_hull']]\n",
    "y2 = np.array(y2.values)\n",
    "\n",
    "y1c=[1 if 0<value else 0 for value in y2[:,0]]\n",
    "print(\"  \")\n",
    "print('percent of class 1', y1c.count(1)/len(y1c)*100)\n",
    "\n",
    "from sklearn.model_selection import train_test_split\n",
    "X_train, X_test, y_train, y_test = train_test_split(S300099new_scaled,y1c,test_size=0.2,stratify=y1c,random_state = 2)\n",
    "\n",
    "\n"
   ]
  },
  {
   "cell_type": "code",
   "execution_count": null,
   "metadata": {
    "collapsed": true
   },
   "outputs": [],
   "source": []
  }
 ],
 "metadata": {
  "kernelspec": {
   "display_name": "Python 3",
   "language": "python",
   "name": "python3"
  },
  "language_info": {
   "codemirror_mode": {
    "name": "ipython",
    "version": 3
   },
   "file_extension": ".py",
   "mimetype": "text/x-python",
   "name": "python",
   "nbconvert_exporter": "python",
   "pygments_lexer": "ipython3",
   "version": "3.4.3"
  }
 },
 "nbformat": 4,
 "nbformat_minor": 2
}
