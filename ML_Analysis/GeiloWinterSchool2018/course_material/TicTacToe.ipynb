{
 "cells": [
  {
   "cell_type": "markdown",
   "metadata": {},
   "source": [
    "# Tic Tac Toe"
   ]
  },
  {
   "cell_type": "markdown",
   "metadata": {},
   "source": [
    "The goal of this exercise is to implement a perfect Tic Tac Toe computer player.\n",
    "\n",
    "If you feel capable of implementing this on your own, you can do so. If not, some tips follow. The reference implementation of this exercise can be found in [this file](tictactoe.py)."
   ]
  },
  {
   "cell_type": "markdown",
   "metadata": {},
   "source": [
    "### winner_horizontal\n",
    "\n",
    "Implement a function `winner_horizontal(board)`. The input `board` is a list of lists (or tuples). Each list has three elements, which may be the string `'X'`, the string `'O'` or the special object `None` (which indicates the absence of a value). If any of the lists contains three `'X'` or three `'O'` it returns `'X'` or `'O'` as required. Otherwise, if all entries contain `'X'` or `'O'` it returns `'D'` (for *draw*). Otherwise, it returns `None` (game not finished). You may assume that it is never the case that both `'X'` and `'O'` should be returned.\n",
    "\n",
    "**Tip:** You can compare two lists directly, e.g. `somelist == ['O', 'O', 'O']`\n",
    "\n",
    "**Tip:** Note that `['X'] * 3` is another way to write the list `['X', 'X', 'X']`"
   ]
  },
  {
   "cell_type": "markdown",
   "metadata": {},
   "source": [
    "### winner\n",
    "\n",
    "Implement a function `winner(board)`. The input `board` is a list three lists, each list having three elements that are the string `'X'`, the string `'O'` or the special object `None`. (This will be our representation of a tic-tac-toe board.) The function should return `'X'` or `'O'` if any of these are the winner, `None` otherwise.\n",
    "\n",
    "**Tip:** You can call `winner_horizontal` with a list of eight lists to do this.\n",
    "\n",
    "**Tip:** An easy way to \"transpose\" a list of lists is to do `list(zip(*board))`. Note this creates a list of *tuples*, not lists!"
   ]
  },
  {
   "cell_type": "markdown",
   "metadata": {},
   "source": [
    "### moves\n",
    "\n",
    "Implement a function `moves(board)`. The input is a tic-tac-toe board (see above). The return value is a list of tuples `(i,j)` of available squares. A square is available if its position has the value `None`.\n",
    "\n",
    "**Tip:** You can iterate over several collections in a comprehension,\n",
    "\n",
    "    [(i,j) for i in range(3) for j in range(3) if ...]"
   ]
  },
  {
   "cell_type": "markdown",
   "metadata": {},
   "source": [
    "### make_move\n",
    "\n",
    "Implement a function `make_move(board, i, j, player)`. The input `board` is a tic-tac-toe board. `i` and `j` are row and column indices and `player` is the string `'X'` or `'O'` for which player should make a move. The function should return a new board with the move indicated having been made.\n",
    "\n",
    "**Tip:** You probably need to deep-copy the board before you make changes."
   ]
  },
  {
   "cell_type": "markdown",
   "metadata": {},
   "source": [
    "### tictactoe1\n",
    "\n",
    "Finally, implement a function `tictactoe1(board, player)`. The input `board` is a board representation, and `player` is the string `'X'` or `'O'`. It should return a tuple `(i,j)` for the best move by that player, according to a simple algorithm:\n",
    "\n",
    "- If the computer player can win with a single move, it does so.\n",
    "- If the opponent can win with a single move, it blocks this move.\n",
    "- If a corner is available, it chooses a corner (it doesn't matter which).\n",
    "- If the center is available, it chooses it.\n",
    "- Otherwise it chooses one of the four side locations.\n",
    "\n",
    "**Tip:** To select a random element from a list, you can use `choice(..)` from the `random` module, i.e.\n",
    "\n",
    "    import random\n",
    "    move = random.choice(available_moves)"
   ]
  },
  {
   "cell_type": "markdown",
   "metadata": {},
   "source": [
    "### monkey\n",
    "\n",
    "Implement a \"monkey\" player, one that chooses a random available move without any thought of tactics. It accepts the same input as `tictactoe1` does."
   ]
  },
  {
   "cell_type": "markdown",
   "metadata": {},
   "source": [
    "To test your AI against the monkey, you can use the `fight` function available in [this file](tictactoe.py). It takes two arguments which are AI functions, and a number `n` of games to play. It actually runs $2n$ games though, since it matters which player starts. Let's try it with my sample implementation."
   ]
  },
  {
   "cell_type": "code",
   "execution_count": 4,
   "metadata": {},
   "outputs": [
    {
     "name": "stdout",
     "output_type": "stream",
     "text": [
      "Draw: 177, tictactoe1 wins: 1749, monkey wins: 74\n"
     ]
    }
   ],
   "source": [
    "import tictactoe as ttt\n",
    "\n",
    "ttt.fight(ttt.tictactoe1, ttt.monkey, n=1000)"
   ]
  },
  {
   "cell_type": "markdown",
   "metadata": {},
   "source": [
    "Interestingly, it seems the monkey is able to win some games. Our AI is not perfect."
   ]
  },
  {
   "cell_type": "markdown",
   "metadata": {},
   "source": [
    "### fork\n",
    "\n",
    "Implement a function `fork(board, player)` which checks whether the board is a *forking* situation for the given player. In other words, it should return `True` if the player given has *two or more* winning moves, otherwise it returns `False`."
   ]
  },
  {
   "cell_type": "markdown",
   "metadata": {},
   "source": [
    "### tictactoe2\n",
    "\n",
    "Implement a new AI that checks for forking moves. In other words, the algorithm is as follows.\n",
    "\n",
    "- If the computer player can win with a single move, it does so.\n",
    "- If the opponent can win with a single move, it blocks this move.\n",
    "- If the computer can play a forking move, it does so.\n",
    "- If the opponent can play a forking move, it blocks this move.\n",
    "- If a corner is available, it chooses a corner (it doesn't matter which).\n",
    "- If the center is available, it chooses it.\n",
    "- Otherwise it chooses one of the four side locations."
   ]
  },
  {
   "cell_type": "markdown",
   "metadata": {},
   "source": [
    "Let's try it."
   ]
  },
  {
   "cell_type": "code",
   "execution_count": 5,
   "metadata": {},
   "outputs": [
    {
     "name": "stdout",
     "output_type": "stream",
     "text": [
      "Draw: 235, tictactoe2 wins: 1743, monkey wins: 22\n"
     ]
    }
   ],
   "source": [
    "ttt.fight(ttt.tictactoe2, ttt.monkey, n=1000)"
   ]
  },
  {
   "cell_type": "markdown",
   "metadata": {},
   "source": [
    "It seems our new version does slightly better, but it should still be impossible for the monkey to win any games against a perfect AI."
   ]
  },
  {
   "cell_type": "markdown",
   "metadata": {},
   "source": [
    "### tictactoe3\n",
    "\n",
    "Implement a perfect AI. The algorithm is as follows.\n",
    "\n",
    "- If the computer player can win with a single move, it does so.\n",
    "- If the opponent can win with a single move, it blocks this move.\n",
    "- If the computer can play a forking move, it does so.\n",
    "- If the opponent has exactly one forking move, it blocks this move.\n",
    "- If the opponent has exactly two forking moves, it plays any side location if available.\n",
    "- If the center is available, it chooses it.\n",
    "- If a corner is available, it chooses a corner (it doesn't matter which).\n",
    "- Otherwise it chooses one of the four side locations.\n",
    "\n",
    "Note that this AI prefers center moves over corner moves."
   ]
  },
  {
   "cell_type": "markdown",
   "metadata": {},
   "source": [
    "Let's try it."
   ]
  },
  {
   "cell_type": "code",
   "execution_count": 8,
   "metadata": {},
   "outputs": [
    {
     "name": "stdout",
     "output_type": "stream",
     "text": [
      "Draw: 140, tictactoe3 wins: 1860, monkey wins: 0\n"
     ]
    }
   ],
   "source": [
    "ttt.fight(ttt.tictactoe3, ttt.monkey, n=1000)"
   ]
  },
  {
   "cell_type": "markdown",
   "metadata": {},
   "source": [
    "Indeed, it seems `tictactoe3` is infallible."
   ]
  }
 ],
 "metadata": {
  "kernelspec": {
   "display_name": "Python 3",
   "language": "python",
   "name": "python3"
  },
  "language_info": {
   "codemirror_mode": {
    "name": "ipython",
    "version": 3
   },
   "file_extension": ".py",
   "mimetype": "text/x-python",
   "name": "python",
   "nbconvert_exporter": "python",
   "pygments_lexer": "ipython3",
   "version": "3.6.0"
  }
 },
 "nbformat": 4,
 "nbformat_minor": 2
}
